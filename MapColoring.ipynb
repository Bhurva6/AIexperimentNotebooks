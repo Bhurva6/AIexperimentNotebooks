{
  "nbformat": 4,
  "nbformat_minor": 0,
  "metadata": {
    "colab": {
      "provenance": [],
      "include_colab_link": true
    },
    "kernelspec": {
      "name": "python3",
      "display_name": "Python 3"
    },
    "language_info": {
      "name": "python"
    }
  },
  "cells": [
    {
      "cell_type": "markdown",
      "metadata": {
        "id": "view-in-github",
        "colab_type": "text"
      },
      "source": [
        "<a href=\"https://colab.research.google.com/github/Bhurva6/AIexperimentNotebooks/blob/main/MapColoring.ipynb\" target=\"_parent\"><img src=\"https://colab.research.google.com/assets/colab-badge.svg\" alt=\"Open In Colab\"/></a>"
      ]
    },
    {
      "cell_type": "markdown",
      "source": [
        "#every vertex or area of the map must be in a different color than the adjacent map "
      ],
      "metadata": {
        "id": "CvuAiPSfbB72"
      }
    },
    {
      "cell_type": "markdown",
      "source": [
        "Greedy Approach\n"
      ],
      "metadata": {
        "id": "h-VpG4vZhNqJ"
      }
    },
    {
      "cell_type": "code",
      "source": [
        "def addEdge(adj, v, w):\n",
        "\t\n",
        "\tadj[v].append(w)\n",
        "\treturn adj\n",
        "\n",
        "# Assigns colors (1,2,3) to all vertices and prints the assignment of colors\n",
        "print (\"Available colors: 0,1,2\")\n",
        "\n",
        "def greedyColoring(adj, V):\n",
        "\t\n",
        "\tresult = [-1] * V\n",
        "\n",
        "\t# Assign the first color to first vertex\n",
        "\n",
        "\tresult[0] = 0;\n",
        "\n",
        "\n",
        "\t#A temporary array to store the available colors. True value of available[cr] would mean that the color cr is assigned to one of its adjacent vertices\n",
        "\n",
        "\tavailable = [False] * V\n",
        "\n",
        "\t# Assign colors to remaining V-1 vertices\n",
        "\n",
        "\tfor u in range(1, V):\n",
        "\t\t\n",
        "\t\t# Process all adjacent vertices and flag their colors as unavailable\n",
        "\n",
        "\t\tfor i in adj[u]:\n",
        "\t\t\tif (result[i] != -1):\n",
        "\t\t\t\tavailable[result[i]] = True\n",
        "\n",
        "\t\t# Find the first available color\n",
        "\n",
        "\t\tcr = 0\n",
        "\t\twhile cr < V:\n",
        "\t\t\tif (available[cr] == False):\n",
        "\t\t\t\tbreak\n",
        "\t\t\t\n",
        "\t\t\tcr += 1\n",
        "\t\t\t\n",
        "\t\t# Assign the found color\n",
        "\n",
        "\t\tresult[u] = cr\n",
        "\n",
        "\t\t# Reset the values back to false for the next iteration\n",
        "\n",
        "\t\tfor i in adj[u]:\n",
        "\t\t\tif (result[i] != -1):\n",
        "\t\t\t\tavailable[result[i]] = False\n",
        "\n",
        "\n",
        "\tfor u in range(V):\n",
        "\t\tprint(\"Vertex\", u, \" ---> Color\", result[u])\n",
        "\n",
        "# Driver Code\n",
        "if __name__ == '__main__':\n",
        "\t\n",
        "\tg1 = [[] for i in range(5)]\n",
        "\tg1 = addEdge(g1, 0, 1)\n",
        "\tg1 = addEdge(g1, 0, 2)\n",
        "\tg1 = addEdge(g1, 1, 2)\n",
        "\tg1 = addEdge(g1, 1, 3)\n",
        "\tg1 = addEdge(g1, 2, 3)\n",
        "\tg1 = addEdge(g1, 3, 4)\n",
        "\tprint(\"Coloring of graph \")\n",
        "\tgreedyColoring(g1, 5)\n",
        "\n"
      ],
      "metadata": {
        "colab": {
          "base_uri": "https://localhost:8080/"
        },
        "id": "rXYlEga9a_pv",
        "outputId": "aa71f6d5-1b77-4079-d942-8cf2db2f84ba"
      },
      "execution_count": null,
      "outputs": [
        {
          "output_type": "stream",
          "name": "stdout",
          "text": [
            "Available colors: 0,1,2\n",
            "Coloring of graph \n",
            "Vertex 0  ---> Color 0\n",
            "Vertex 1  ---> Color 0\n",
            "Vertex 2  ---> Color 0\n",
            "Vertex 3  ---> Color 0\n",
            "Vertex 4  ---> Color 0\n"
          ]
        }
      ]
    },
    {
      "cell_type": "markdown",
      "source": [
        "Backtracking Approach"
      ],
      "metadata": {
        "id": "mAvbJIfUhTNQ"
      }
    },
    {
      "cell_type": "code",
      "source": [
        "colors = ['Red', 'Blue', 'Green']\n",
        "states = ['wa', 'nt', 'sa', 'q', 'nsw', 'v']\n",
        "neighbors = {} \n",
        "\n",
        "#adjacent pairing neighbors of different states\n",
        "\n",
        "neighbors['wa'] = ['nt', 'sa']\n",
        "neighbors['nt'] = ['wa', 'sa', 'q']\n",
        "neighbors['sa'] = ['wa', 'nt', 'q', 'nsw', 'v']\n",
        "neighbors['q'] = ['nt', 'sa', 'snw']\n",
        "neighbors['nsw'] = ['q', 'sa', 'v']\n",
        "neighbors['v'] = ['sa', 'nsw']\n",
        "colors_of_states = {}\n",
        "\n",
        "def promising(state, color): \n",
        "  for neighbor in neighbors.get(state):\n",
        "    color_of_neighbor = colors_of_states.get(neighbor)\n",
        "    if color_of_neighbor == color: \n",
        "      return False\n",
        "      return True\n",
        "  \n",
        "  \n",
        "#function to check a promising color - returns a promising color\n",
        "\n",
        "#same color (of neighbor and state) = rejected\n",
        "#if not same = color accepted\n",
        "\n",
        "def get_color_for_state(state): \n",
        "  \n",
        "#promising color is assigned to the state\n",
        "\n",
        "  for color in colors:\n",
        "    if promising(state, color):\n",
        "      return color\n",
        "\n",
        "def main():\n",
        "  for state in states:\n",
        "    colors_of_states[state] = get_color_for_state(state)\n",
        "    print(colors_of_states)\n",
        "main()\n"
      ],
      "metadata": {
        "colab": {
          "base_uri": "https://localhost:8080/"
        },
        "id": "6_o6N3U4dLkV",
        "outputId": "97e0c75c-f10b-4589-d2a0-d10f0b022817"
      },
      "execution_count": null,
      "outputs": [
        {
          "output_type": "stream",
          "name": "stdout",
          "text": [
            "{'wa': None}\n",
            "{'wa': None, 'nt': None}\n",
            "{'wa': None, 'nt': None, 'sa': None}\n",
            "{'wa': None, 'nt': None, 'sa': None, 'q': None}\n",
            "{'wa': None, 'nt': None, 'sa': None, 'q': None, 'nsw': None}\n",
            "{'wa': None, 'nt': None, 'sa': None, 'q': None, 'nsw': None, 'v': None}\n"
          ]
        }
      ]
    },
    {
      "cell_type": "code",
      "source": [],
      "metadata": {
        "id": "jldiSPOwihxE"
      },
      "execution_count": null,
      "outputs": []
    }
  ]
}